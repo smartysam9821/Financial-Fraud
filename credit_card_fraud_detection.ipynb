{
  "nbformat": 4,
  "nbformat_minor": 0,
  "metadata": {
    "colab": {
      "name": "credit_card_fraud_detection.ipynb",
      "provenance": [],
      "collapsed_sections": []
    },
    "kernelspec": {
      "name": "python3",
      "display_name": "Python 3"
    }
  },
  "cells": [
    {
      "cell_type": "markdown",
      "metadata": {
        "id": "9wT2bEJWwqNt"
      },
      "source": [
        "## Introduction\n",
        "### Problem statement - Identify fraudulent credit card transactions.\n",
        "##### It is important that credit card companies are able to recognize fraudulent credit card transactions so that customers are not charged for items that they did not purchase. Make your machine learning model learn to detect these anomalous transactions\n",
        "\n"
      ]
    },
    {
      "cell_type": "code",
      "metadata": {
        "id": "ERY9O-RZwtSA"
      },
      "source": [
        "# Loading Requred Packages\n",
        "import pandas as pd\n",
        "import matplotlib.pyplot as plt\n",
        "import seaborn as sns\n",
        "import numpy as np \n",
        "from sklearn.preprocessing import StandardScaler\n",
        "from sklearn.linear_model import LogisticRegression \n",
        "from sklearn.model_selection import train_test_split \n",
        "from imblearn.over_sampling import SMOTE\n",
        "from sklearn.metrics import confusion_matrix, classification_report "
      ],
      "execution_count": null,
      "outputs": []
    },
    {
      "cell_type": "code",
      "metadata": {
        "id": "jnjlSW3Ow3iC"
      },
      "source": [
        "# Read the data\n",
        "cc_data = pd.read_csv('creditcard.csv')"
      ],
      "execution_count": null,
      "outputs": []
    },
    {
      "cell_type": "code",
      "metadata": {
        "id": "rLFFK_VYxfGh",
        "outputId": "42b3e38e-28e5-4ac9-89f9-37bc78d65176",
        "colab": {
          "base_uri": "https://localhost:8080/",
          "height": 224
        }
      },
      "source": [
        "#Glimpse the data\n",
        "cc_data.head()"
      ],
      "execution_count": null,
      "outputs": [
        {
          "output_type": "execute_result",
          "data": {
            "text/html": [
              "<div>\n",
              "<style scoped>\n",
              "    .dataframe tbody tr th:only-of-type {\n",
              "        vertical-align: middle;\n",
              "    }\n",
              "\n",
              "    .dataframe tbody tr th {\n",
              "        vertical-align: top;\n",
              "    }\n",
              "\n",
              "    .dataframe thead th {\n",
              "        text-align: right;\n",
              "    }\n",
              "</style>\n",
              "<table border=\"1\" class=\"dataframe\">\n",
              "  <thead>\n",
              "    <tr style=\"text-align: right;\">\n",
              "      <th></th>\n",
              "      <th>Time</th>\n",
              "      <th>V1</th>\n",
              "      <th>V2</th>\n",
              "      <th>V3</th>\n",
              "      <th>V4</th>\n",
              "      <th>V5</th>\n",
              "      <th>V6</th>\n",
              "      <th>V7</th>\n",
              "      <th>V8</th>\n",
              "      <th>V9</th>\n",
              "      <th>V10</th>\n",
              "      <th>V11</th>\n",
              "      <th>V12</th>\n",
              "      <th>V13</th>\n",
              "      <th>V14</th>\n",
              "      <th>V15</th>\n",
              "      <th>V16</th>\n",
              "      <th>V17</th>\n",
              "      <th>V18</th>\n",
              "      <th>V19</th>\n",
              "      <th>V20</th>\n",
              "      <th>V21</th>\n",
              "      <th>V22</th>\n",
              "      <th>V23</th>\n",
              "      <th>V24</th>\n",
              "      <th>V25</th>\n",
              "      <th>V26</th>\n",
              "      <th>V27</th>\n",
              "      <th>V28</th>\n",
              "      <th>Amount</th>\n",
              "      <th>Class</th>\n",
              "    </tr>\n",
              "  </thead>\n",
              "  <tbody>\n",
              "    <tr>\n",
              "      <th>0</th>\n",
              "      <td>0.0</td>\n",
              "      <td>-1.359807</td>\n",
              "      <td>-0.072781</td>\n",
              "      <td>2.536347</td>\n",
              "      <td>1.378155</td>\n",
              "      <td>-0.338321</td>\n",
              "      <td>0.462388</td>\n",
              "      <td>0.239599</td>\n",
              "      <td>0.098698</td>\n",
              "      <td>0.363787</td>\n",
              "      <td>0.090794</td>\n",
              "      <td>-0.551600</td>\n",
              "      <td>-0.617801</td>\n",
              "      <td>-0.991390</td>\n",
              "      <td>-0.311169</td>\n",
              "      <td>1.468177</td>\n",
              "      <td>-0.470401</td>\n",
              "      <td>0.207971</td>\n",
              "      <td>0.025791</td>\n",
              "      <td>0.403993</td>\n",
              "      <td>0.251412</td>\n",
              "      <td>-0.018307</td>\n",
              "      <td>0.277838</td>\n",
              "      <td>-0.110474</td>\n",
              "      <td>0.066928</td>\n",
              "      <td>0.128539</td>\n",
              "      <td>-0.189115</td>\n",
              "      <td>0.133558</td>\n",
              "      <td>-0.021053</td>\n",
              "      <td>149.62</td>\n",
              "      <td>0</td>\n",
              "    </tr>\n",
              "    <tr>\n",
              "      <th>1</th>\n",
              "      <td>0.0</td>\n",
              "      <td>1.191857</td>\n",
              "      <td>0.266151</td>\n",
              "      <td>0.166480</td>\n",
              "      <td>0.448154</td>\n",
              "      <td>0.060018</td>\n",
              "      <td>-0.082361</td>\n",
              "      <td>-0.078803</td>\n",
              "      <td>0.085102</td>\n",
              "      <td>-0.255425</td>\n",
              "      <td>-0.166974</td>\n",
              "      <td>1.612727</td>\n",
              "      <td>1.065235</td>\n",
              "      <td>0.489095</td>\n",
              "      <td>-0.143772</td>\n",
              "      <td>0.635558</td>\n",
              "      <td>0.463917</td>\n",
              "      <td>-0.114805</td>\n",
              "      <td>-0.183361</td>\n",
              "      <td>-0.145783</td>\n",
              "      <td>-0.069083</td>\n",
              "      <td>-0.225775</td>\n",
              "      <td>-0.638672</td>\n",
              "      <td>0.101288</td>\n",
              "      <td>-0.339846</td>\n",
              "      <td>0.167170</td>\n",
              "      <td>0.125895</td>\n",
              "      <td>-0.008983</td>\n",
              "      <td>0.014724</td>\n",
              "      <td>2.69</td>\n",
              "      <td>0</td>\n",
              "    </tr>\n",
              "    <tr>\n",
              "      <th>2</th>\n",
              "      <td>1.0</td>\n",
              "      <td>-1.358354</td>\n",
              "      <td>-1.340163</td>\n",
              "      <td>1.773209</td>\n",
              "      <td>0.379780</td>\n",
              "      <td>-0.503198</td>\n",
              "      <td>1.800499</td>\n",
              "      <td>0.791461</td>\n",
              "      <td>0.247676</td>\n",
              "      <td>-1.514654</td>\n",
              "      <td>0.207643</td>\n",
              "      <td>0.624501</td>\n",
              "      <td>0.066084</td>\n",
              "      <td>0.717293</td>\n",
              "      <td>-0.165946</td>\n",
              "      <td>2.345865</td>\n",
              "      <td>-2.890083</td>\n",
              "      <td>1.109969</td>\n",
              "      <td>-0.121359</td>\n",
              "      <td>-2.261857</td>\n",
              "      <td>0.524980</td>\n",
              "      <td>0.247998</td>\n",
              "      <td>0.771679</td>\n",
              "      <td>0.909412</td>\n",
              "      <td>-0.689281</td>\n",
              "      <td>-0.327642</td>\n",
              "      <td>-0.139097</td>\n",
              "      <td>-0.055353</td>\n",
              "      <td>-0.059752</td>\n",
              "      <td>378.66</td>\n",
              "      <td>0</td>\n",
              "    </tr>\n",
              "    <tr>\n",
              "      <th>3</th>\n",
              "      <td>1.0</td>\n",
              "      <td>-0.966272</td>\n",
              "      <td>-0.185226</td>\n",
              "      <td>1.792993</td>\n",
              "      <td>-0.863291</td>\n",
              "      <td>-0.010309</td>\n",
              "      <td>1.247203</td>\n",
              "      <td>0.237609</td>\n",
              "      <td>0.377436</td>\n",
              "      <td>-1.387024</td>\n",
              "      <td>-0.054952</td>\n",
              "      <td>-0.226487</td>\n",
              "      <td>0.178228</td>\n",
              "      <td>0.507757</td>\n",
              "      <td>-0.287924</td>\n",
              "      <td>-0.631418</td>\n",
              "      <td>-1.059647</td>\n",
              "      <td>-0.684093</td>\n",
              "      <td>1.965775</td>\n",
              "      <td>-1.232622</td>\n",
              "      <td>-0.208038</td>\n",
              "      <td>-0.108300</td>\n",
              "      <td>0.005274</td>\n",
              "      <td>-0.190321</td>\n",
              "      <td>-1.175575</td>\n",
              "      <td>0.647376</td>\n",
              "      <td>-0.221929</td>\n",
              "      <td>0.062723</td>\n",
              "      <td>0.061458</td>\n",
              "      <td>123.50</td>\n",
              "      <td>0</td>\n",
              "    </tr>\n",
              "    <tr>\n",
              "      <th>4</th>\n",
              "      <td>2.0</td>\n",
              "      <td>-1.158233</td>\n",
              "      <td>0.877737</td>\n",
              "      <td>1.548718</td>\n",
              "      <td>0.403034</td>\n",
              "      <td>-0.407193</td>\n",
              "      <td>0.095921</td>\n",
              "      <td>0.592941</td>\n",
              "      <td>-0.270533</td>\n",
              "      <td>0.817739</td>\n",
              "      <td>0.753074</td>\n",
              "      <td>-0.822843</td>\n",
              "      <td>0.538196</td>\n",
              "      <td>1.345852</td>\n",
              "      <td>-1.119670</td>\n",
              "      <td>0.175121</td>\n",
              "      <td>-0.451449</td>\n",
              "      <td>-0.237033</td>\n",
              "      <td>-0.038195</td>\n",
              "      <td>0.803487</td>\n",
              "      <td>0.408542</td>\n",
              "      <td>-0.009431</td>\n",
              "      <td>0.798278</td>\n",
              "      <td>-0.137458</td>\n",
              "      <td>0.141267</td>\n",
              "      <td>-0.206010</td>\n",
              "      <td>0.502292</td>\n",
              "      <td>0.219422</td>\n",
              "      <td>0.215153</td>\n",
              "      <td>69.99</td>\n",
              "      <td>0</td>\n",
              "    </tr>\n",
              "  </tbody>\n",
              "</table>\n",
              "</div>"
            ],
            "text/plain": [
              "   Time        V1        V2        V3  ...       V27       V28  Amount  Class\n",
              "0   0.0 -1.359807 -0.072781  2.536347  ...  0.133558 -0.021053  149.62      0\n",
              "1   0.0  1.191857  0.266151  0.166480  ... -0.008983  0.014724    2.69      0\n",
              "2   1.0 -1.358354 -1.340163  1.773209  ... -0.055353 -0.059752  378.66      0\n",
              "3   1.0 -0.966272 -0.185226  1.792993  ...  0.062723  0.061458  123.50      0\n",
              "4   2.0 -1.158233  0.877737  1.548718  ...  0.219422  0.215153   69.99      0\n",
              "\n",
              "[5 rows x 31 columns]"
            ]
          },
          "metadata": {
            "tags": []
          },
          "execution_count": 3
        }
      ]
    },
    {
      "cell_type": "code",
      "metadata": {
        "id": "eUhA3yoVxsoG",
        "outputId": "097c511b-c3d3-4566-d90d-17a9fa1c03f4",
        "colab": {
          "base_uri": "https://localhost:8080/"
        }
      },
      "source": [
        "# check the data\n",
        "cc_data.info()"
      ],
      "execution_count": null,
      "outputs": [
        {
          "output_type": "stream",
          "text": [
            "<class 'pandas.core.frame.DataFrame'>\n",
            "RangeIndex: 284807 entries, 0 to 284806\n",
            "Data columns (total 31 columns):\n",
            " #   Column  Non-Null Count   Dtype  \n",
            "---  ------  --------------   -----  \n",
            " 0   Time    284807 non-null  float64\n",
            " 1   V1      284807 non-null  float64\n",
            " 2   V2      284807 non-null  float64\n",
            " 3   V3      284807 non-null  float64\n",
            " 4   V4      284807 non-null  float64\n",
            " 5   V5      284807 non-null  float64\n",
            " 6   V6      284807 non-null  float64\n",
            " 7   V7      284807 non-null  float64\n",
            " 8   V8      284807 non-null  float64\n",
            " 9   V9      284807 non-null  float64\n",
            " 10  V10     284807 non-null  float64\n",
            " 11  V11     284807 non-null  float64\n",
            " 12  V12     284807 non-null  float64\n",
            " 13  V13     284807 non-null  float64\n",
            " 14  V14     284807 non-null  float64\n",
            " 15  V15     284807 non-null  float64\n",
            " 16  V16     284807 non-null  float64\n",
            " 17  V17     284807 non-null  float64\n",
            " 18  V18     284807 non-null  float64\n",
            " 19  V19     284807 non-null  float64\n",
            " 20  V20     284807 non-null  float64\n",
            " 21  V21     284807 non-null  float64\n",
            " 22  V22     284807 non-null  float64\n",
            " 23  V23     284807 non-null  float64\n",
            " 24  V24     284807 non-null  float64\n",
            " 25  V25     284807 non-null  float64\n",
            " 26  V26     284807 non-null  float64\n",
            " 27  V27     284807 non-null  float64\n",
            " 28  V28     284807 non-null  float64\n",
            " 29  Amount  284807 non-null  float64\n",
            " 30  Class   284807 non-null  int64  \n",
            "dtypes: float64(30), int64(1)\n",
            "memory usage: 67.4 MB\n"
          ],
          "name": "stdout"
        }
      ]
    },
    {
      "cell_type": "code",
      "metadata": {
        "id": "xYz8My4yxyQt",
        "outputId": "2fe40f39-0f68-4388-af80-8e2097babf8b",
        "colab": {
          "base_uri": "https://localhost:8080/"
        }
      },
      "source": [
        "# checkong for null values\n",
        "cc_data.isnull().sum()"
      ],
      "execution_count": null,
      "outputs": [
        {
          "output_type": "execute_result",
          "data": {
            "text/plain": [
              "Time      0\n",
              "V1        0\n",
              "V2        0\n",
              "V3        0\n",
              "V4        0\n",
              "V5        0\n",
              "V6        0\n",
              "V7        0\n",
              "V8        0\n",
              "V9        0\n",
              "V10       0\n",
              "V11       0\n",
              "V12       0\n",
              "V13       0\n",
              "V14       0\n",
              "V15       0\n",
              "V16       0\n",
              "V17       0\n",
              "V18       0\n",
              "V19       0\n",
              "V20       0\n",
              "V21       0\n",
              "V22       0\n",
              "V23       0\n",
              "V24       0\n",
              "V25       0\n",
              "V26       0\n",
              "V27       0\n",
              "V28       0\n",
              "Amount    0\n",
              "Class     0\n",
              "dtype: int64"
            ]
          },
          "metadata": {
            "tags": []
          },
          "execution_count": 5
        }
      ]
    },
    {
      "cell_type": "code",
      "metadata": {
        "id": "G1-L0xA3xzb5",
        "outputId": "8a789f4e-aa10-4830-8383-34c9289fe68d",
        "colab": {
          "base_uri": "https://localhost:8080/",
          "height": 343
        }
      },
      "source": [
        "# checking if data is unbalanced\n",
        "pd.value_counts(cc_data['Class']).plot.bar()\n",
        "plt.title('Fraud class histogram')\n",
        "plt.xlabel('Class')\n",
        "plt.ylabel('Frequency')\n",
        "plt.show()\n",
        "cc_data['Class'].value_counts()/cc_data.shape[0]*100"
      ],
      "execution_count": null,
      "outputs": [
        {
          "output_type": "display_data",
          "data": {
            "image/png": "[encoded data removed]",
            "text/plain": [
              "<Figure size 432x288 with 1 Axes>"
            ]
          },
          "metadata": {
            "tags": [],
            "needs_background": "light"
          }
        },
        {
          "output_type": "execute_result",
          "data": {
            "text/plain": [
              "0    99.827251\n",
              "1     0.172749\n",
              "Name: Class, dtype: float64"
            ]
          },
          "metadata": {
            "tags": []
          },
          "execution_count": 6
        }
      ]
    },
    {
      "cell_type": "markdown",
      "metadata": {
        "id": "i5xiU6N4x7tF"
      },
      "source": [
        "### Clearly the data is totally unbalanced\n",
        "##### There are several ways to approach this classification problem taking into consideration this unbalance.\n",
        "###### Changing the performance metric:\n",
        "\n",
        "1. Precision and Recall\n",
        "2. F1score (weighted average of precision recall)\n",
        "3. ROC curves - calculates sensitivity/specificity ratio."
      ]
    },
    {
      "cell_type": "code",
      "metadata": {
        "id": "enDiLXyLx8UO",
        "outputId": "f5f7d499-cb96-498b-cf1b-553e0b7c0493",
        "colab": {
          "base_uri": "https://localhost:8080/"
        }
      },
      "source": [
        "# normalise the amount column \n",
        "cc_data['normAmount'] = StandardScaler().fit_transform(cc_data['Amount'].values.reshape(-1, 1))\n",
        "  \n",
        "# drop Time and Amount columns as they are not relevant for prediction purpose  \n",
        "cc_data = cc_data.drop(['Time', 'Amount'], axis = 1) \n",
        "  \n",
        "# as you can see there are 492 fraud transactions. \n",
        "cc_data['Class'].value_counts()"
      ],
      "execution_count": null,
      "outputs": [
        {
          "output_type": "execute_result",
          "data": {
            "text/plain": [
              "0    284315\n",
              "1       492\n",
              "Name: Class, dtype: int64"
            ]
          },
          "metadata": {
            "tags": []
          },
          "execution_count": 7
        }
      ]
    },
    {
      "cell_type": "code",
      "metadata": {
        "id": "RE4Ngy8bzx3h"
      },
      "source": [
        "X = cc_data.drop('Class', axis=1)\n",
        "y = cc_data['Class']"
      ],
      "execution_count": null,
      "outputs": []
    },
    {
      "cell_type": "code",
      "metadata": {
        "id": "5mY8tVQ3yK_w",
        "outputId": "eb7bdb28-d92e-41b4-c40d-0a1ca8b43526",
        "colab": {
          "base_uri": "https://localhost:8080/"
        }
      },
      "source": [
        "# split into 70:30 ration \n",
        "X_train, X_test, y_train, y_test = train_test_split(X, y, test_size = 0.3, random_state = 0) \n",
        "  \n",
        "# describes info about train and test set \n",
        "print(\"Number transactions X_train dataset: \", X_train.shape) \n",
        "print(\"Number transactions y_train dataset: \", y_train.shape) \n",
        "print(\"Number transactions X_test dataset: \", X_test.shape) \n",
        "print(\"Number transactions y_test dataset: \", y_test.shape) "
      ],
      "execution_count": null,
      "outputs": [
        {
          "output_type": "stream",
          "text": [
            "Number transactions X_train dataset:  (199364, 29)\n",
            "Number transactions y_train dataset:  (199364,)\n",
            "Number transactions X_test dataset:  (85443, 29)\n",
            "Number transactions y_test dataset:  (85443,)\n"
          ],
          "name": "stdout"
        }
      ]
    },
    {
      "cell_type": "markdown",
      "metadata": {
        "id": "8OMO3UXw0XU-"
      },
      "source": [
        "## Now train the model without handling the imbalanced class distribution"
      ]
    },
    {
      "cell_type": "code",
      "metadata": {
        "id": "1I-cAbAZ1yXv",
        "outputId": "752973b1-b40e-4739-9010-b0edeb5dd1a8",
        "colab": {
          "base_uri": "https://localhost:8080/",
          "height": 224
        }
      },
      "source": [
        "X_train.head()"
      ],
      "execution_count": null,
      "outputs": [
        {
          "output_type": "execute_result",
          "data": {
            "text/html": [
              "<div>\n",
              "<style scoped>\n",
              "    .dataframe tbody tr th:only-of-type {\n",
              "        vertical-align: middle;\n",
              "    }\n",
              "\n",
              "    .dataframe tbody tr th {\n",
              "        vertical-align: top;\n",
              "    }\n",
              "\n",
              "    .dataframe thead th {\n",
              "        text-align: right;\n",
              "    }\n",
              "</style>\n",
              "<table border=\"1\" class=\"dataframe\">\n",
              "  <thead>\n",
              "    <tr style=\"text-align: right;\">\n",
              "      <th></th>\n",
              "      <th>V1</th>\n",
              "      <th>V2</th>\n",
              "      <th>V3</th>\n",
              "      <th>V4</th>\n",
              "      <th>V5</th>\n",
              "      <th>V6</th>\n",
              "      <th>V7</th>\n",
              "      <th>V8</th>\n",
              "      <th>V9</th>\n",
              "      <th>V10</th>\n",
              "      <th>V11</th>\n",
              "      <th>V12</th>\n",
              "      <th>V13</th>\n",
              "      <th>V14</th>\n",
              "      <th>V15</th>\n",
              "      <th>V16</th>\n",
              "      <th>V17</th>\n",
              "      <th>V18</th>\n",
              "      <th>V19</th>\n",
              "      <th>V20</th>\n",
              "      <th>V21</th>\n",
              "      <th>V22</th>\n",
              "      <th>V23</th>\n",
              "      <th>V24</th>\n",
              "      <th>V25</th>\n",
              "      <th>V26</th>\n",
              "      <th>V27</th>\n",
              "      <th>V28</th>\n",
              "      <th>normAmount</th>\n",
              "    </tr>\n",
              "  </thead>\n",
              "  <tbody>\n",
              "    <tr>\n",
              "      <th>161145</th>\n",
              "      <td>-0.132066</td>\n",
              "      <td>0.107044</td>\n",
              "      <td>-0.650588</td>\n",
              "      <td>-0.996032</td>\n",
              "      <td>1.814333</td>\n",
              "      <td>1.740740</td>\n",
              "      <td>0.496852</td>\n",
              "      <td>0.633016</td>\n",
              "      <td>0.017181</td>\n",
              "      <td>-0.362707</td>\n",
              "      <td>0.527911</td>\n",
              "      <td>0.505396</td>\n",
              "      <td>-0.742107</td>\n",
              "      <td>0.492430</td>\n",
              "      <td>-0.163585</td>\n",
              "      <td>-0.950404</td>\n",
              "      <td>0.262987</td>\n",
              "      <td>-1.760767</td>\n",
              "      <td>-0.939037</td>\n",
              "      <td>-0.062612</td>\n",
              "      <td>-0.062489</td>\n",
              "      <td>0.005292</td>\n",
              "      <td>0.251519</td>\n",
              "      <td>-2.466810</td>\n",
              "      <td>-0.889690</td>\n",
              "      <td>0.337462</td>\n",
              "      <td>0.306395</td>\n",
              "      <td>0.074817</td>\n",
              "      <td>-0.161761</td>\n",
              "    </tr>\n",
              "    <tr>\n",
              "      <th>204520</th>\n",
              "      <td>2.125994</td>\n",
              "      <td>0.014207</td>\n",
              "      <td>-1.514760</td>\n",
              "      <td>0.115021</td>\n",
              "      <td>0.598510</td>\n",
              "      <td>-0.333235</td>\n",
              "      <td>0.199289</td>\n",
              "      <td>-0.264353</td>\n",
              "      <td>0.384111</td>\n",
              "      <td>0.028747</td>\n",
              "      <td>-1.208334</td>\n",
              "      <td>0.838156</td>\n",
              "      <td>1.511476</td>\n",
              "      <td>-0.042076</td>\n",
              "      <td>-0.002894</td>\n",
              "      <td>0.080270</td>\n",
              "      <td>-0.658905</td>\n",
              "      <td>-0.747678</td>\n",
              "      <td>0.431762</td>\n",
              "      <td>-0.086076</td>\n",
              "      <td>-0.329368</td>\n",
              "      <td>-0.788150</td>\n",
              "      <td>0.267730</td>\n",
              "      <td>0.066122</td>\n",
              "      <td>-0.135785</td>\n",
              "      <td>0.203841</td>\n",
              "      <td>-0.068267</td>\n",
              "      <td>-0.057678</td>\n",
              "      <td>-0.345313</td>\n",
              "    </tr>\n",
              "    <tr>\n",
              "      <th>182659</th>\n",
              "      <td>-0.086694</td>\n",
              "      <td>0.166240</td>\n",
              "      <td>1.573127</td>\n",
              "      <td>0.687266</td>\n",
              "      <td>0.222359</td>\n",
              "      <td>1.102606</td>\n",
              "      <td>1.575093</td>\n",
              "      <td>-1.098608</td>\n",
              "      <td>0.763887</td>\n",
              "      <td>1.404677</td>\n",
              "      <td>1.346697</td>\n",
              "      <td>0.140822</td>\n",
              "      <td>0.159637</td>\n",
              "      <td>-1.147153</td>\n",
              "      <td>0.664997</td>\n",
              "      <td>-0.133032</td>\n",
              "      <td>-1.267675</td>\n",
              "      <td>0.818995</td>\n",
              "      <td>0.405276</td>\n",
              "      <td>0.052960</td>\n",
              "      <td>0.015324</td>\n",
              "      <td>1.063663</td>\n",
              "      <td>-0.410841</td>\n",
              "      <td>0.722723</td>\n",
              "      <td>-0.171733</td>\n",
              "      <td>-0.613543</td>\n",
              "      <td>-1.201571</td>\n",
              "      <td>-1.139931</td>\n",
              "      <td>0.326845</td>\n",
              "    </tr>\n",
              "    <tr>\n",
              "      <th>25117</th>\n",
              "      <td>1.352339</td>\n",
              "      <td>-0.534984</td>\n",
              "      <td>0.555143</td>\n",
              "      <td>-0.629355</td>\n",
              "      <td>-1.144170</td>\n",
              "      <td>-0.852967</td>\n",
              "      <td>-0.642128</td>\n",
              "      <td>-0.032659</td>\n",
              "      <td>-0.654482</td>\n",
              "      <td>0.619206</td>\n",
              "      <td>0.103615</td>\n",
              "      <td>-1.067971</td>\n",
              "      <td>-1.227629</td>\n",
              "      <td>0.197196</td>\n",
              "      <td>1.151364</td>\n",
              "      <td>0.846905</td>\n",
              "      <td>0.710309</td>\n",
              "      <td>-1.963506</td>\n",
              "      <td>0.130406</td>\n",
              "      <td>-0.066712</td>\n",
              "      <td>-0.014814</td>\n",
              "      <td>-0.180379</td>\n",
              "      <td>0.178112</td>\n",
              "      <td>0.347720</td>\n",
              "      <td>0.151810</td>\n",
              "      <td>-0.404361</td>\n",
              "      <td>0.013746</td>\n",
              "      <td>0.016152</td>\n",
              "      <td>-0.329401</td>\n",
              "    </tr>\n",
              "    <tr>\n",
              "      <th>227642</th>\n",
              "      <td>-1.526760</td>\n",
              "      <td>0.647782</td>\n",
              "      <td>0.615391</td>\n",
              "      <td>-0.561114</td>\n",
              "      <td>0.836950</td>\n",
              "      <td>-0.514251</td>\n",
              "      <td>0.984325</td>\n",
              "      <td>-0.097430</td>\n",
              "      <td>-0.062634</td>\n",
              "      <td>-1.033567</td>\n",
              "      <td>-0.706095</td>\n",
              "      <td>-0.612354</td>\n",
              "      <td>-0.336939</td>\n",
              "      <td>-1.384147</td>\n",
              "      <td>0.314279</td>\n",
              "      <td>0.552201</td>\n",
              "      <td>0.512582</td>\n",
              "      <td>0.370183</td>\n",
              "      <td>-0.163736</td>\n",
              "      <td>-0.073333</td>\n",
              "      <td>-0.221533</td>\n",
              "      <td>-0.393158</td>\n",
              "      <td>-0.214990</td>\n",
              "      <td>0.588447</td>\n",
              "      <td>0.679496</td>\n",
              "      <td>0.518434</td>\n",
              "      <td>0.065022</td>\n",
              "      <td>0.147294</td>\n",
              "      <td>0.006398</td>\n",
              "    </tr>\n",
              "  </tbody>\n",
              "</table>\n",
              "</div>"
            ],
            "text/plain": [
              "              V1        V2        V3  ...       V27       V28  normAmount\n",
              "161145 -0.132066  0.107044 -0.650588  ...  0.306395  0.074817   -0.161761\n",
              "204520  2.125994  0.014207 -1.514760  ... -0.068267 -0.057678   -0.345313\n",
              "182659 -0.086694  0.166240  1.573127  ... -1.201571 -1.139931    0.326845\n",
              "25117   1.352339 -0.534984  0.555143  ...  0.013746  0.016152   -0.329401\n",
              "227642 -1.526760  0.647782  0.615391  ...  0.065022  0.147294    0.006398\n",
              "\n",
              "[5 rows x 29 columns]"
            ]
          },
          "metadata": {
            "tags": []
          },
          "execution_count": 10
        }
      ]
    },
    {
      "cell_type": "code",
      "metadata": {
        "id": "IA0NIm0oy1EO"
      },
      "source": [
        "# logistic regression object \n",
        "lr = LogisticRegression() "
      ],
      "execution_count": null,
      "outputs": []
    },
    {
      "cell_type": "code",
      "metadata": {
        "id": "2MZVj4pg0cT6",
        "outputId": "9a4504ef-19b5-4627-edd7-bc58d3bb2b2b",
        "colab": {
          "base_uri": "https://localhost:8080/"
        }
      },
      "source": [
        "# train the model on train set \n",
        "lr.fit(X_train, y_train)"
      ],
      "execution_count": null,
      "outputs": [
        {
          "output_type": "execute_result",
          "data": {
            "text/plain": [
              "LogisticRegression(C=1.0, class_weight=None, dual=False, fit_intercept=True,\n",
              "                   intercept_scaling=1, l1_ratio=None, max_iter=100,\n",
              "                   multi_class='auto', n_jobs=None, penalty='l2',\n",
              "                   random_state=None, solver='lbfgs', tol=0.0001, verbose=0,\n",
              "                   warm_start=False)"
            ]
          },
          "metadata": {
            "tags": []
          },
          "execution_count": 12
        }
      ]
    },
    {
      "cell_type": "code",
      "metadata": {
        "id": "jGR4EAZO0gGK"
      },
      "source": [
        "predictions = lr.predict(X_test)"
      ],
      "execution_count": null,
      "outputs": []
    },
    {
      "cell_type": "code",
      "metadata": {
        "id": "RkmlAjUx4KiQ",
        "outputId": "2e8effc6-8466-4b8f-d3ff-58c494aeab25",
        "colab": {
          "base_uri": "https://localhost:8080/"
        }
      },
      "source": [
        "# print classification report \n",
        "print(classification_report(y_test, predictions))"
      ],
      "execution_count": null,
      "outputs": [
        {
          "output_type": "stream",
          "text": [
            "              precision    recall  f1-score   support\n",
            "\n",
            "           0       1.00      1.00      1.00     85296\n",
            "           1       0.88      0.62      0.73       147\n",
            "\n",
            "    accuracy                           1.00     85443\n",
            "   macro avg       0.94      0.81      0.86     85443\n",
            "weighted avg       1.00      1.00      1.00     85443\n",
            "\n"
          ],
          "name": "stdout"
        }
      ]
    },
    {
      "cell_type": "code",
      "metadata": {
        "id": "bzZcT_AP5bbk",
        "outputId": "35f66ef9-0d98-40cb-9119-955656ecc647",
        "colab": {
          "base_uri": "https://localhost:8080/"
        }
      },
      "source": [
        "# print f1 score\n",
        "from sklearn.metrics import f1_score\n",
        "f1_score(y_test, predictions)"
      ],
      "execution_count": null,
      "outputs": [
        {
          "output_type": "execute_result",
          "data": {
            "text/plain": [
              "0.728"
            ]
          },
          "metadata": {
            "tags": []
          },
          "execution_count": 15
        }
      ]
    },
    {
      "cell_type": "code",
      "metadata": {
        "id": "deScGslq5_6c",
        "outputId": "cc8c6c16-afce-4058-9056-376746fb51df",
        "colab": {
          "base_uri": "https://localhost:8080/"
        }
      },
      "source": [
        "# Print roc auc score\n",
        "from sklearn.metrics import roc_auc_score\n",
        "roc_auc_score(y_test, predictions)"
      ],
      "execution_count": null,
      "outputs": [
        {
          "output_type": "execute_result",
          "data": {
            "text/plain": [
              "0.8094534662486266"
            ]
          },
          "metadata": {
            "tags": []
          },
          "execution_count": 16
        }
      ]
    },
    {
      "cell_type": "markdown",
      "metadata": {
        "id": "njkC00dZ7NYM"
      },
      "source": [
        "## Applying SMOTE(Synthetic Minority Over Sampling Technique)"
      ]
    },
    {
      "cell_type": "code",
      "metadata": {
        "id": "HWGqr5NA6raE"
      },
      "source": [
        "from imblearn.over_sampling import SMOTE \n",
        "sm = SMOTE(random_state = 2) \n",
        "X_train_res, y_train_res = sm.fit_sample(X_train, y_train.ravel())"
      ],
      "execution_count": null,
      "outputs": []
    },
    {
      "cell_type": "code",
      "metadata": {
        "id": "uKyhbIo271iY",
        "outputId": "a0a26f9d-af31-4105-d016-74c9bca76497",
        "colab": {
          "base_uri": "https://localhost:8080/"
        }
      },
      "source": [
        "print('After OverSampling, the shape of train_X: {}'.format(X_train_res.shape)) \n",
        "print('After OverSampling, the shape of train_y: {} \\n'.format(y_train_res.shape)) \n",
        "  \n",
        "print(\"After OverSampling, counts of label '1': {}\".format(sum(y_train_res == 1))) \n",
        "print(\"After OverSampling, counts of label '0': {}\".format(sum(y_train_res == 0))) "
      ],
      "execution_count": null,
      "outputs": [
        {
          "output_type": "stream",
          "text": [
            "After OverSampling, the shape of train_X: (398038, 29)\n",
            "After OverSampling, the shape of train_y: (398038,) \n",
            "\n",
            "After OverSampling, counts of label '1': 199019\n",
            "After OverSampling, counts of label '0': 199019\n"
          ],
          "name": "stdout"
        }
      ]
    },
    {
      "cell_type": "code",
      "metadata": {
        "id": "teSirU5S8Amw"
      },
      "source": [
        ""
      ],
      "execution_count": null,
      "outputs": []
    }
  ]
}